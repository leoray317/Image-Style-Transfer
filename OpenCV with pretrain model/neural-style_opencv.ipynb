{
 "cells": [
  {
   "cell_type": "code",
   "execution_count": 4,
   "metadata": {},
   "outputs": [
    {
     "data": {
      "text/plain": [
       "True"
      ]
     },
     "execution_count": 4,
     "metadata": {},
     "output_type": "execute_result"
    }
   ],
   "source": [
    "import cv2 \n",
    "# 加載模型 \n",
    "net = cv2.dnn.readNetFromTorch('feathers.t7') \n",
    "net.setPreferableBackend(cv2.dnn.DNN_BACKEND_OPENCV); \n",
    "# 讀取圖片 \n",
    "image = cv2.imread('abc.jpg') \n",
    "(h, w) = image.shape[:2] \n",
    "blob = cv2.dnn.blobFromImage(image, 1.0, (w, h), (103.939, 116.779, 123.680), swapRB=False, crop=False) \n",
    "net.setInput(blob) \n",
    "out = net.forward() \n",
    "out = out.reshape(3, out.shape[2], out.shape[3]) \n",
    "out[0] += 103.939 \n",
    "out[1] += 116.779 \n",
    "out[2] += 123.68 \n",
    "out /= 255 \n",
    "out = out.transpose(1, 2, 0)\n",
    "cv2.imwrite(\"she.png\", out)\n"
   ]
  },
  {
   "cell_type": "code",
   "execution_count": null,
   "metadata": {},
   "outputs": [],
   "source": []
  }
 ],
 "metadata": {
  "kernelspec": {
   "display_name": "Python 3",
   "language": "python",
   "name": "python3"
  },
  "language_info": {
   "codemirror_mode": {
    "name": "ipython",
    "version": 3
   },
   "file_extension": ".py",
   "mimetype": "text/x-python",
   "name": "python",
   "nbconvert_exporter": "python",
   "pygments_lexer": "ipython3",
   "version": "3.7.5"
  }
 },
 "nbformat": 4,
 "nbformat_minor": 4
}
